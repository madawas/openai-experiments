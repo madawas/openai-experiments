{
 "cells": [
  {
   "cell_type": "code",
   "execution_count": 2,
   "metadata": {},
   "outputs": [],
   "source": [
    "import openai\n",
    "from dotenv import dotenv_values"
   ]
  },
  {
   "cell_type": "code",
   "execution_count": 3,
   "metadata": {},
   "outputs": [],
   "source": [
    "config = dotenv_values('../.env')\n",
    "\n",
    "openai.api_key = config['API_KEY']"
   ]
  },
  {
   "cell_type": "code",
   "execution_count": 14,
   "metadata": {},
   "outputs": [],
   "source": [
    "def completion(prompt, model='text-davinci-003', max_tokens=16, temperature=0.8, top_p=1.0, frequency_penalty=0.0, presence_penalty=0.0, n=1, echo=False):\n",
    "    \"\"\"\n",
    "    Generates text using the OpenAI completion API.\n",
    "\n",
    "    Parameters:\n",
    "    - prompt (str): The input text to generate text from.\n",
    "    - model (str): The model to use for text generation (default: 'text-davinci-003').\n",
    "    - max_tokens (int): The maximum number of tokens in the generated response (default: 16).\n",
    "    - temperature (float): Controls the randomness of the generated text (default: 0.8).\n",
    "    - top_p (float): Nucleus sampling parameter to control diversity (default: 1.0).\n",
    "    - frequency_penalty (float): Controls the penalty for repeating tokens (default: 0.0).\n",
    "    - presence_penalty (float): Controls the penalty for including irrelevant tokens (default: 0.0).\n",
    "    - n (int): Number of completions to generate. (default: 1)\n",
    "    - echo (boolean): whether to include prompt in the completion (default: False)\n",
    "\n",
    "    Returns:\n",
    "    - completion (dict): API response\n",
    "    \"\"\"\n",
    "\n",
    "    # Call the OpenAI API to generate text\n",
    "    response = openai.Completion.create(\n",
    "        engine=model,\n",
    "        prompt=prompt,\n",
    "        max_tokens=max_tokens,\n",
    "        temperature=temperature,\n",
    "        top_p=top_p,\n",
    "        frequency_penalty=frequency_penalty,\n",
    "        presence_penalty=presence_penalty,\n",
    "        n=n,\n",
    "        echo=echo\n",
    "    )\n",
    "\n",
    "    return response"
   ]
  },
  {
   "cell_type": "code",
   "execution_count": null,
   "metadata": {},
   "outputs": [],
   "source": [
    "#Test basic prompt\n",
    "prompt = \"List the planets of the solar system in the order of the size\"\n",
    "response = completion(prompt=prompt, max_tokens=100)\n",
    "print(response.choices[0].text.strip())"
   ]
  },
  {
   "cell_type": "code",
   "execution_count": null,
   "metadata": {},
   "outputs": [],
   "source": [
    "#Test prompt with n > 1.\n",
    "# n = number of completions to generate\n",
    "# When n > 1, max_token applies to each individual completion\n",
    "\n",
    "prompt = \"Tell me an interesting fact about OpenAI\"\n",
    "response = completion(prompt=prompt, max_tokens=100, n=3)\n",
    "print(response.choices, response.usage)"
   ]
  },
  {
   "cell_type": "code",
   "execution_count": null,
   "metadata": {},
   "outputs": [],
   "source": [
    "# Chat API with gpt-3.5 and gpt-4 models\n",
    "response = openai.ChatCompletion.create(\n",
    "    model=\"gpt-3.5-turbo\",\n",
    "    messages=[\n",
    "        {\"role\": \"system\", \"content\": \"You are a helpful chatbot\"},\n",
    "        {\"role\": \"user\", \"content\": \"Tell me three interesting fact about Australia\"}\n",
    "    ]\n",
    ")\n",
    "\n",
    "print(f\"{response.choices[0].message.role}:\\n{response.choices[0].message.content}\")"
   ]
  },
  {
   "cell_type": "code",
   "execution_count": null,
   "metadata": {},
   "outputs": [],
   "source": [
    "# ChatCompletion API supports all params from completion api except echo\n",
    "response = openai.ChatCompletion.create(\n",
    "    model=\"gpt-3.5-turbo\",\n",
    "    messages=[\n",
    "        {\"role\": \"system\", \"content\": \"You are an technical content writer\"},\n",
    "        {\"role\": \"user\", \"content\": \"Write a essay about generative AI in less than 200 words\"}\n",
    "    ],\n",
    "    max_tokens=250,\n",
    "    temperature=0.8,\n",
    "    presence_penalty=0.8\n",
    ")\n",
    "\n",
    "print(response.choices[0].message.content.strip())"
   ]
  },
  {
   "cell_type": "code",
   "execution_count": null,
   "metadata": {},
   "outputs": [],
   "source": [
    "response = openai.ChatCompletion.create(\n",
    "    model=\"gpt-3.5-turbo\",\n",
    "    messages=[\n",
    "        {\"role\": \"system\", \"content\": \"You are an conversational chatbot\"},\n",
    "        {\"role\": \"user\", \"content\": \"List 10 most successfull professional drivers\"}\n",
    "    ],\n",
    "    max_tokens=250,\n",
    "    temperature=0.8,\n",
    "    presence_penalty=0.8,\n",
    "    stream=True\n",
    ")\n",
    "\n",
    "for chunk in response:\n",
    "    print(chunk)"
   ]
  }
 ],
 "metadata": {
  "kernelspec": {
   "display_name": "Python 3",
   "language": "python",
   "name": "python3"
  },
  "language_info": {
   "codemirror_mode": {
    "name": "ipython",
    "version": 3
   },
   "file_extension": ".py",
   "mimetype": "text/x-python",
   "name": "python",
   "nbconvert_exporter": "python",
   "pygments_lexer": "ipython3",
   "version": "3.11.4"
  },
  "orig_nbformat": 4,
  "vscode": {
   "interpreter": {
    "hash": "b0fa6594d8f4cbf19f97940f81e996739fb7646882a419484c72d19e05852a7e"
   }
  }
 },
 "nbformat": 4,
 "nbformat_minor": 2
}
