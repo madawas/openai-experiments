{
 "cells": [
  {
   "cell_type": "code",
   "execution_count": 12,
   "metadata": {},
   "outputs": [],
   "source": [
    "import openai\n",
    "from dotenv import dotenv_values"
   ]
  },
  {
   "cell_type": "code",
   "execution_count": 13,
   "metadata": {},
   "outputs": [],
   "source": [
    "config = dotenv_values('../.env')\n",
    "\n",
    "openai.api_key = config['API_KEY']"
   ]
  },
  {
   "cell_type": "code",
   "execution_count": 14,
   "metadata": {},
   "outputs": [],
   "source": [
    "def completion(prompt, model='text-davinci-003', max_tokens=16, temperature=0.8, top_p=1.0, frequency_penalty=0.0, presence_penalty=0.0, n=1, echo=False):\n",
    "    \"\"\"\n",
    "    Generates text using the OpenAI completion API.\n",
    "\n",
    "    Parameters:\n",
    "    - prompt (str): The input text to generate text from.\n",
    "    - model (str): The model to use for text generation (default: 'text-davinci-003').\n",
    "    - max_tokens (int): The maximum number of tokens in the generated response (default: 16).\n",
    "    - temperature (float): Controls the randomness of the generated text (default: 0.8).\n",
    "    - top_p (float): Nucleus sampling parameter to control diversity (default: 1.0).\n",
    "    - frequency_penalty (float): Controls the penalty for repeating tokens (default: 0.0).\n",
    "    - presence_penalty (float): Controls the penalty for including irrelevant tokens (default: 0.0).\n",
    "    - n (int): Number of completions to generate. (default: 1)\n",
    "    - echo (boolean): whether to include prompt in the completion (default: False)\n",
    "\n",
    "    Returns:\n",
    "    - completion (dict): API response\n",
    "    \"\"\"\n",
    "\n",
    "    # Call the OpenAI API to generate text\n",
    "    response = openai.Completion.create(\n",
    "        engine=model,\n",
    "        prompt=prompt,\n",
    "        max_tokens=max_tokens,\n",
    "        temperature=temperature,\n",
    "        top_p=top_p,\n",
    "        frequency_penalty=frequency_penalty,\n",
    "        presence_penalty=presence_penalty,\n",
    "        n=n,\n",
    "        echo=echo\n",
    "    )\n",
    "\n",
    "    return response"
   ]
  },
  {
   "cell_type": "code",
   "execution_count": 15,
   "metadata": {},
   "outputs": [
    {
     "name": "stdout",
     "output_type": "stream",
     "text": [
      "1. Jupiter\n",
      "2. Saturn\n",
      "3. Uranus\n",
      "4. Neptune\n",
      "5. Earth\n",
      "6. Venus\n",
      "7. Mars\n",
      "8. Mercury\n"
     ]
    }
   ],
   "source": [
    "#Test basic prompt\n",
    "prompt = \"List the planets of the solar system in the order of the size\"\n",
    "response = completion(prompt=prompt, max_tokens=100)\n",
    "print(response.choices[0].text.strip())"
   ]
  },
  {
   "cell_type": "code",
   "execution_count": 16,
   "metadata": {},
   "outputs": [
    {
     "name": "stdout",
     "output_type": "stream",
     "text": [
      "[<OpenAIObject at 0x111dcf8f0> JSON: {\n",
      "  \"text\": \"\\n\\nOpenAI is a research laboratory founded by Tesla CEO Elon Musk in 2015 with the mission to build a safer, more equitable artificial intelligence (AI). The goal of OpenAI is to advance digital intelligence in a way that is beneficial to humanity. OpenAI's research has focused on areas such as reinforcement learning, unsupervised learning, and deep learning.\",\n",
      "  \"index\": 0,\n",
      "  \"logprobs\": null,\n",
      "  \"finish_reason\": \"stop\"\n",
      "}, <OpenAIObject at 0x1118a92b0> JSON: {\n",
      "  \"text\": \"\\n\\nOpenAI is a non-profit research company whose mission is to ensure that artificial general intelligence (AGI) benefits all of humanity. It is funded by a combination of Founders Fund, Microsoft, and Elon Musk. OpenAI is a leader in artificial intelligence technology and has made major breakthroughs in natural language processing and machine learning.\",\n",
      "  \"index\": 1,\n",
      "  \"logprobs\": null,\n",
      "  \"finish_reason\": \"stop\"\n",
      "}, <OpenAIObject at 0x1118a8ef0> JSON: {\n",
      "  \"text\": \"\\n\\nOpenAI is a non-profit Artificial Intelligence research company that was founded in 2015 by Elon Musk and Sam Altman. Its mission is to \\u201cadvance digital intelligence in the way that is most likely to benefit humanity as a whole, unconstrained by a need to generate financial return.\\u201d\",\n",
      "  \"index\": 2,\n",
      "  \"logprobs\": null,\n",
      "  \"finish_reason\": \"stop\"\n",
      "}] {\n",
      "  \"prompt_tokens\": 8,\n",
      "  \"completion_tokens\": 203,\n",
      "  \"total_tokens\": 211\n",
      "}\n"
     ]
    }
   ],
   "source": [
    "#Test prompt with n > 1.\n",
    "# n = number of completions to generate\n",
    "# When n > 1, max_token applies to each individual completion\n",
    "\n",
    "prompt = \"Tell me an interesting fact about OpenAI\"\n",
    "response = completion(prompt=prompt, max_tokens=100, n=3)\n",
    "print(response.choices, response.usage)"
   ]
  },
  {
   "cell_type": "code",
   "execution_count": 25,
   "metadata": {},
   "outputs": [
    {
     "name": "stdout",
     "output_type": "stream",
     "text": [
      "assistant:\n",
      "Sure, here are three interesting facts about Australia:\n",
      "\n",
      "1. The Great Barrier Reef is the largest living structure on Earth, and it's located off the coast of Australia. It's home to thousands of species of fish, birds, and other marine life.\n",
      "\n",
      "2. Australia is the only continent that is also a single country. It's the world's sixth-largest country by total land area, but it has a relatively small population of around 25 million people.\n",
      "\n",
      "3. Australia is home to some of the world's most unique animals, including kangaroos, koalas, and wombats. It's also the only place where you can find monotremes, which are mammals that lay eggs instead of giving live birth. The most famous monotreme is the platypus.\n"
     ]
    }
   ],
   "source": [
    "response = openai.ChatCompletion.create(\n",
    "    model=\"gpt-3.5-turbo\",\n",
    "    messages=[\n",
    "        {\"role\": \"system\", \"content\": \"You are a helpful chatbot\"},\n",
    "        {\"role\": \"user\", \"content\": \"Tell me three interesting fact about Australia\"}\n",
    "    ]\n",
    ")\n",
    "\n",
    "print(f\"{response.choices[0].message.role}:\\n{response.choices[0].message.content}\")"
   ]
  }
 ],
 "metadata": {
  "kernelspec": {
   "display_name": "Python 3",
   "language": "python",
   "name": "python3"
  },
  "language_info": {
   "codemirror_mode": {
    "name": "ipython",
    "version": 3
   },
   "file_extension": ".py",
   "mimetype": "text/x-python",
   "name": "python",
   "nbconvert_exporter": "python",
   "pygments_lexer": "ipython3",
   "version": "3.11.4"
  },
  "orig_nbformat": 4,
  "vscode": {
   "interpreter": {
    "hash": "b0fa6594d8f4cbf19f97940f81e996739fb7646882a419484c72d19e05852a7e"
   }
  }
 },
 "nbformat": 4,
 "nbformat_minor": 2
}
